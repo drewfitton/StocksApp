{
 "cells": [
  {
   "cell_type": "code",
   "execution_count": 3,
   "id": "6b485bbd",
   "metadata": {},
   "outputs": [
    {
     "name": "stdout",
     "output_type": "stream",
     "text": [
      "{'sentimentAggr': {'usedResults': 20, 'totalResults': 20, 'results': [0, 0, 0, 0, 0, 0, 0, 0, 0, 0, 8, 2, 10, 0, 0, 0, 0, 0, 0, 0]}}\n"
     ]
    }
   ],
   "source": [
    "import requests\n",
    "\n",
    "url = 'https://eventregistry.org/api/v1/article/getArticles'\n",
    "payload = {\n",
    "  \"action\": \"getArticles\",\n",
    "  \"keyword\": \"Tesla Outlook\",\n",
    "  \"sourceLocationUri\": [\n",
    "    \"http://en.wikipedia.org/wiki/United_States\",\n",
    "    \"http://en.wikipedia.org/wiki/Canada\",\n",
    "    \"http://en.wikipedia.org/wiki/United_Kingdom\"\n",
    "  ],\n",
    "  \"ignoreSourceGroupUri\": \"paywall/paywalled_sources\",\n",
    "  \"articlesPage\": 1,\n",
    "  \"articlesCount\": 100,\n",
    "  \"articlesSortBy\": \"date\",\n",
    "  \"articlesSortByAsc\": False,\n",
    "  \"dataType\": [\n",
    "    \"news\",\n",
    "    \"pr\"\n",
    "  ],\n",
    "  \"forceMaxDataTimeWindow\": 31,\n",
    "  \"resultType\": \"sentimentAggr\",\n",
    "  \"apiKey\": \"71056b8c-4771-4f6d-a77f-0bd21a362bea\"\n",
    "}\n",
    "\n",
    "response = requests.post(url, json=payload)\n",
    "if response.status_code == 200:\n",
    "    data = response.json()\n",
    "    # articles = data.get('articles', {}).get('results', [])\n",
    "    # for article in articles:\n",
    "    #     title = article.get('title')\n",
    "    #     url = article.get('url')\n",
    "    #     print(f'Title: {title}\\nURL: {url}\\n')\n",
    "    print(data)"
   ]
  },
  {
   "cell_type": "code",
   "execution_count": null,
   "id": "69dff8de",
   "metadata": {},
   "outputs": [],
   "source": []
  }
 ],
 "metadata": {
  "kernelspec": {
   "display_name": "gamePredictor",
   "language": "python",
   "name": "python3"
  },
  "language_info": {
   "codemirror_mode": {
    "name": "ipython",
    "version": 3
   },
   "file_extension": ".py",
   "mimetype": "text/x-python",
   "name": "python",
   "nbconvert_exporter": "python",
   "pygments_lexer": "ipython3",
   "version": "3.11.10"
  }
 },
 "nbformat": 4,
 "nbformat_minor": 5
}
